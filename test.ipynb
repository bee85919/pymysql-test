{
 "cells": [
  {
   "cell_type": "code",
   "execution_count": 1,
   "metadata": {},
   "outputs": [],
   "source": [
    "import os\n",
    "from dotenv import load_dotenv\n",
    "import pymysql"
   ]
  },
  {
   "cell_type": "code",
   "execution_count": 7,
   "metadata": {},
   "outputs": [
    {
     "data": {
      "text/plain": [
       "True"
      ]
     },
     "execution_count": 7,
     "metadata": {},
     "output_type": "execute_result"
    }
   ],
   "source": [
    "load_dotenv() # 환경변수를 불러온다"
   ]
  },
  {
   "cell_type": "code",
   "execution_count": 8,
   "metadata": {},
   "outputs": [],
   "source": [
    "# 환경변수를 불러온다\n",
    "DB_HOST = os.environ.get(\"DB_HOST\")\n",
    "DB_PORT = os.environ.get(\"DB_PORT\", 3306)  # .env 파일에서 없으면 3306으로 설정\n",
    "DB_NAME = os.environ.get(\"DB_NAME\")\n",
    "DB_USER = os.environ.get(\"DB_USER\")\n",
    "DB_PASSWORD = os.environ.get(\"DB_PASSWORD\")\n",
    "\n",
    "\n",
    "# db 연결을 위한 변수\n",
    "db_config = {\n",
    "    \"host\": DB_HOST,\n",
    "    \"port\": int(DB_PORT),\n",
    "    \"db\": DB_NAME,\n",
    "    \"user\": DB_USER,\n",
    "    \"password\": DB_PASSWORD,\n",
    "    \"charset\": \"utf8\"\n",
    "}\n",
    "# print(\"DB Config:\", db_config)\n",
    "\n",
    "\n",
    "# pymysql을 이용해 DB 연결\n",
    "conn = pymysql.connect(**db_config)"
   ]
  },
  {
   "cell_type": "code",
   "execution_count": 9,
   "metadata": {},
   "outputs": [
    {
     "ename": "Error",
     "evalue": "Already closed",
     "output_type": "error",
     "traceback": [
      "\u001b[0;31m---------------------------------------------------------------------------\u001b[0m",
      "\u001b[0;31mInterfaceError\u001b[0m                            Traceback (most recent call last)",
      "Cell \u001b[0;32mIn[9], line 3\u001b[0m\n\u001b[1;32m      2\u001b[0m \u001b[39mwith\u001b[39;00m conn\u001b[39m.\u001b[39mcursor() \u001b[39mas\u001b[39;00m cur:\n\u001b[0;32m----> 3\u001b[0m     cur\u001b[39m.\u001b[39;49mexecute(\u001b[39m'\u001b[39;49m\u001b[39mCREATE DATABASE TEST DB\u001b[39;49m\u001b[39m'\u001b[39;49m)\n\u001b[1;32m      4\u001b[0m     conn\u001b[39m.\u001b[39mcommit()\n",
      "File \u001b[0;32m~/miniforge3/envs/yeardream/lib/python3.10/site-packages/pymysql/cursors.py:153\u001b[0m, in \u001b[0;36mCursor.execute\u001b[0;34m(self, query, args)\u001b[0m\n\u001b[1;32m    151\u001b[0m query \u001b[39m=\u001b[39m \u001b[39mself\u001b[39m\u001b[39m.\u001b[39mmogrify(query, args)\n\u001b[0;32m--> 153\u001b[0m result \u001b[39m=\u001b[39m \u001b[39mself\u001b[39;49m\u001b[39m.\u001b[39;49m_query(query)\n\u001b[1;32m    154\u001b[0m \u001b[39mself\u001b[39m\u001b[39m.\u001b[39m_executed \u001b[39m=\u001b[39m query\n",
      "File \u001b[0;32m~/miniforge3/envs/yeardream/lib/python3.10/site-packages/pymysql/cursors.py:322\u001b[0m, in \u001b[0;36mCursor._query\u001b[0;34m(self, q)\u001b[0m\n\u001b[1;32m    321\u001b[0m \u001b[39mself\u001b[39m\u001b[39m.\u001b[39m_clear_result()\n\u001b[0;32m--> 322\u001b[0m conn\u001b[39m.\u001b[39;49mquery(q)\n\u001b[1;32m    323\u001b[0m \u001b[39mself\u001b[39m\u001b[39m.\u001b[39m_do_get_result()\n",
      "File \u001b[0;32m~/miniforge3/envs/yeardream/lib/python3.10/site-packages/pymysql/connections.py:557\u001b[0m, in \u001b[0;36mConnection.query\u001b[0;34m(self, sql, unbuffered)\u001b[0m\n\u001b[1;32m    556\u001b[0m     sql \u001b[39m=\u001b[39m sql\u001b[39m.\u001b[39mencode(\u001b[39mself\u001b[39m\u001b[39m.\u001b[39mencoding, \u001b[39m\"\u001b[39m\u001b[39msurrogateescape\u001b[39m\u001b[39m\"\u001b[39m)\n\u001b[0;32m--> 557\u001b[0m \u001b[39mself\u001b[39;49m\u001b[39m.\u001b[39;49m_execute_command(COMMAND\u001b[39m.\u001b[39;49mCOM_QUERY, sql)\n\u001b[1;32m    558\u001b[0m \u001b[39mself\u001b[39m\u001b[39m.\u001b[39m_affected_rows \u001b[39m=\u001b[39m \u001b[39mself\u001b[39m\u001b[39m.\u001b[39m_read_query_result(unbuffered\u001b[39m=\u001b[39munbuffered)\n",
      "File \u001b[0;32m~/miniforge3/envs/yeardream/lib/python3.10/site-packages/pymysql/connections.py:840\u001b[0m, in \u001b[0;36mConnection._execute_command\u001b[0;34m(self, command, sql)\u001b[0m\n\u001b[1;32m    839\u001b[0m \u001b[39mif\u001b[39;00m \u001b[39mnot\u001b[39;00m \u001b[39mself\u001b[39m\u001b[39m.\u001b[39m_sock:\n\u001b[0;32m--> 840\u001b[0m     \u001b[39mraise\u001b[39;00m err\u001b[39m.\u001b[39mInterfaceError(\u001b[39m0\u001b[39m, \u001b[39m\"\u001b[39m\u001b[39m\"\u001b[39m)\n\u001b[1;32m    842\u001b[0m \u001b[39m# If the last query was unbuffered, make sure it finishes before\u001b[39;00m\n\u001b[1;32m    843\u001b[0m \u001b[39m# sending new commands\u001b[39;00m\n",
      "\u001b[0;31mInterfaceError\u001b[0m: (0, '')",
      "\nDuring handling of the above exception, another exception occurred:\n",
      "\u001b[0;31mError\u001b[0m                                     Traceback (most recent call last)",
      "Cell \u001b[0;32mIn[9], line 1\u001b[0m\n\u001b[0;32m----> 1\u001b[0m \u001b[39mwith\u001b[39;00m conn:\n\u001b[1;32m      2\u001b[0m     \u001b[39mwith\u001b[39;00m conn\u001b[39m.\u001b[39mcursor() \u001b[39mas\u001b[39;00m cur:\n\u001b[1;32m      3\u001b[0m         cur\u001b[39m.\u001b[39mexecute(\u001b[39m'\u001b[39m\u001b[39mCREATE DATABASE TEST DB\u001b[39m\u001b[39m'\u001b[39m)\n",
      "File \u001b[0;32m~/miniforge3/envs/yeardream/lib/python3.10/site-packages/pymysql/connections.py:365\u001b[0m, in \u001b[0;36mConnection.__exit__\u001b[0;34m(***failed resolving arguments***)\u001b[0m\n\u001b[1;32m    363\u001b[0m \u001b[39mdef\u001b[39;00m \u001b[39m__exit__\u001b[39m(\u001b[39mself\u001b[39m, \u001b[39m*\u001b[39mexc_info):\n\u001b[1;32m    364\u001b[0m     \u001b[39mdel\u001b[39;00m exc_info\n\u001b[0;32m--> 365\u001b[0m     \u001b[39mself\u001b[39;49m\u001b[39m.\u001b[39;49mclose()\n",
      "File \u001b[0;32m~/miniforge3/envs/yeardream/lib/python3.10/site-packages/pymysql/connections.py:409\u001b[0m, in \u001b[0;36mConnection.close\u001b[0;34m(self)\u001b[0m\n\u001b[1;32m    400\u001b[0m \u001b[39m\u001b[39m\u001b[39m\"\"\"\u001b[39;00m\n\u001b[1;32m    401\u001b[0m \u001b[39mSend the quit message and close the socket.\u001b[39;00m\n\u001b[1;32m    402\u001b[0m \n\u001b[0;32m   (...)\u001b[0m\n\u001b[1;32m    406\u001b[0m \u001b[39m:raise Error: If the connection is already closed.\u001b[39;00m\n\u001b[1;32m    407\u001b[0m \u001b[39m\"\"\"\u001b[39;00m\n\u001b[1;32m    408\u001b[0m \u001b[39mif\u001b[39;00m \u001b[39mself\u001b[39m\u001b[39m.\u001b[39m_closed:\n\u001b[0;32m--> 409\u001b[0m     \u001b[39mraise\u001b[39;00m err\u001b[39m.\u001b[39mError(\u001b[39m\"\u001b[39m\u001b[39mAlready closed\u001b[39m\u001b[39m\"\u001b[39m)\n\u001b[1;32m    410\u001b[0m \u001b[39mself\u001b[39m\u001b[39m.\u001b[39m_closed \u001b[39m=\u001b[39m \u001b[39mTrue\u001b[39;00m\n\u001b[1;32m    411\u001b[0m \u001b[39mif\u001b[39;00m \u001b[39mself\u001b[39m\u001b[39m.\u001b[39m_sock \u001b[39mis\u001b[39;00m \u001b[39mNone\u001b[39;00m:\n",
      "\u001b[0;31mError\u001b[0m: Already closed"
     ]
    }
   ],
   "source": [
    "with conn:\n",
    "    with conn.cursor() as curs:\n",
    "        curs.execute('CREATE DATABASE TESTDB')\n",
    "        conn.commit()"
   ]
  },
  {
   "cell_type": "code",
   "execution_count": 6,
   "metadata": {},
   "outputs": [
    {
     "ename": "Error",
     "evalue": "Already closed",
     "output_type": "error",
     "traceback": [
      "\u001b[0;31m---------------------------------------------------------------------------\u001b[0m",
      "\u001b[0;31mInterfaceError\u001b[0m                            Traceback (most recent call last)",
      "Cell \u001b[0;32mIn[6], line 15\u001b[0m\n\u001b[1;32m     14\u001b[0m \u001b[39mwith\u001b[39;00m conn\u001b[39m.\u001b[39mcursor() \u001b[39mas\u001b[39;00m curs:\n\u001b[0;32m---> 15\u001b[0m     curs\u001b[39m.\u001b[39;49mexecute(sql, (\u001b[39m'\u001b[39;49m\u001b[39mJaehee\u001b[39;49m\u001b[39m'\u001b[39;49m, \u001b[39m'\u001b[39;49m\u001b[39mjaehee@example.com\u001b[39;49m\u001b[39m'\u001b[39;49m))\n\u001b[1;32m     16\u001b[0m     curs\u001b[39m.\u001b[39mexecute(sql, (\u001b[39m'\u001b[39m\u001b[39mJeongeun\u001b[39m\u001b[39m'\u001b[39m, \u001b[39m'\u001b[39m\u001b[39mjeongeun@example.com\u001b[39m\u001b[39m'\u001b[39m))\n",
      "File \u001b[0;32m~/miniforge3/envs/yeardream/lib/python3.10/site-packages/pymysql/cursors.py:153\u001b[0m, in \u001b[0;36mCursor.execute\u001b[0;34m(self, query, args)\u001b[0m\n\u001b[1;32m    151\u001b[0m query \u001b[39m=\u001b[39m \u001b[39mself\u001b[39m\u001b[39m.\u001b[39mmogrify(query, args)\n\u001b[0;32m--> 153\u001b[0m result \u001b[39m=\u001b[39m \u001b[39mself\u001b[39;49m\u001b[39m.\u001b[39;49m_query(query)\n\u001b[1;32m    154\u001b[0m \u001b[39mself\u001b[39m\u001b[39m.\u001b[39m_executed \u001b[39m=\u001b[39m query\n",
      "File \u001b[0;32m~/miniforge3/envs/yeardream/lib/python3.10/site-packages/pymysql/cursors.py:322\u001b[0m, in \u001b[0;36mCursor._query\u001b[0;34m(self, q)\u001b[0m\n\u001b[1;32m    321\u001b[0m \u001b[39mself\u001b[39m\u001b[39m.\u001b[39m_clear_result()\n\u001b[0;32m--> 322\u001b[0m conn\u001b[39m.\u001b[39;49mquery(q)\n\u001b[1;32m    323\u001b[0m \u001b[39mself\u001b[39m\u001b[39m.\u001b[39m_do_get_result()\n",
      "File \u001b[0;32m~/miniforge3/envs/yeardream/lib/python3.10/site-packages/pymysql/connections.py:557\u001b[0m, in \u001b[0;36mConnection.query\u001b[0;34m(self, sql, unbuffered)\u001b[0m\n\u001b[1;32m    556\u001b[0m     sql \u001b[39m=\u001b[39m sql\u001b[39m.\u001b[39mencode(\u001b[39mself\u001b[39m\u001b[39m.\u001b[39mencoding, \u001b[39m\"\u001b[39m\u001b[39msurrogateescape\u001b[39m\u001b[39m\"\u001b[39m)\n\u001b[0;32m--> 557\u001b[0m \u001b[39mself\u001b[39;49m\u001b[39m.\u001b[39;49m_execute_command(COMMAND\u001b[39m.\u001b[39;49mCOM_QUERY, sql)\n\u001b[1;32m    558\u001b[0m \u001b[39mself\u001b[39m\u001b[39m.\u001b[39m_affected_rows \u001b[39m=\u001b[39m \u001b[39mself\u001b[39m\u001b[39m.\u001b[39m_read_query_result(unbuffered\u001b[39m=\u001b[39munbuffered)\n",
      "File \u001b[0;32m~/miniforge3/envs/yeardream/lib/python3.10/site-packages/pymysql/connections.py:840\u001b[0m, in \u001b[0;36mConnection._execute_command\u001b[0;34m(self, command, sql)\u001b[0m\n\u001b[1;32m    839\u001b[0m \u001b[39mif\u001b[39;00m \u001b[39mnot\u001b[39;00m \u001b[39mself\u001b[39m\u001b[39m.\u001b[39m_sock:\n\u001b[0;32m--> 840\u001b[0m     \u001b[39mraise\u001b[39;00m err\u001b[39m.\u001b[39mInterfaceError(\u001b[39m0\u001b[39m, \u001b[39m\"\u001b[39m\u001b[39m\"\u001b[39m)\n\u001b[1;32m    842\u001b[0m \u001b[39m# If the last query was unbuffered, make sure it finishes before\u001b[39;00m\n\u001b[1;32m    843\u001b[0m \u001b[39m# sending new commands\u001b[39;00m\n",
      "\u001b[0;31mInterfaceError\u001b[0m: (0, '')",
      "\nDuring handling of the above exception, another exception occurred:\n",
      "\u001b[0;31mError\u001b[0m                                     Traceback (most recent call last)",
      "Cell \u001b[0;32mIn[6], line 13\u001b[0m\n\u001b[1;32m      8\u001b[0m         conn\u001b[39m.\u001b[39mcommit()\n\u001b[1;32m     11\u001b[0m sql \u001b[39m=\u001b[39m \u001b[39m\"\u001b[39m\u001b[39mINSERT INTO test (name, email) VALUES (\u001b[39m\u001b[39m%s\u001b[39;00m\u001b[39m, \u001b[39m\u001b[39m%s\u001b[39;00m\u001b[39m)\u001b[39m\u001b[39m\"\u001b[39m\n\u001b[0;32m---> 13\u001b[0m \u001b[39mwith\u001b[39;00m conn:\n\u001b[1;32m     14\u001b[0m     \u001b[39mwith\u001b[39;00m conn\u001b[39m.\u001b[39mcursor() \u001b[39mas\u001b[39;00m curs:\n\u001b[1;32m     15\u001b[0m         curs\u001b[39m.\u001b[39mexecute(sql, (\u001b[39m'\u001b[39m\u001b[39mJaehee\u001b[39m\u001b[39m'\u001b[39m, \u001b[39m'\u001b[39m\u001b[39mjaehee@example.com\u001b[39m\u001b[39m'\u001b[39m))\n",
      "File \u001b[0;32m~/miniforge3/envs/yeardream/lib/python3.10/site-packages/pymysql/connections.py:365\u001b[0m, in \u001b[0;36mConnection.__exit__\u001b[0;34m(***failed resolving arguments***)\u001b[0m\n\u001b[1;32m    363\u001b[0m \u001b[39mdef\u001b[39;00m \u001b[39m__exit__\u001b[39m(\u001b[39mself\u001b[39m, \u001b[39m*\u001b[39mexc_info):\n\u001b[1;32m    364\u001b[0m     \u001b[39mdel\u001b[39;00m exc_info\n\u001b[0;32m--> 365\u001b[0m     \u001b[39mself\u001b[39;49m\u001b[39m.\u001b[39;49mclose()\n",
      "File \u001b[0;32m~/miniforge3/envs/yeardream/lib/python3.10/site-packages/pymysql/connections.py:409\u001b[0m, in \u001b[0;36mConnection.close\u001b[0;34m(self)\u001b[0m\n\u001b[1;32m    400\u001b[0m \u001b[39m\u001b[39m\u001b[39m\"\"\"\u001b[39;00m\n\u001b[1;32m    401\u001b[0m \u001b[39mSend the quit message and close the socket.\u001b[39;00m\n\u001b[1;32m    402\u001b[0m \n\u001b[0;32m   (...)\u001b[0m\n\u001b[1;32m    406\u001b[0m \u001b[39m:raise Error: If the connection is already closed.\u001b[39;00m\n\u001b[1;32m    407\u001b[0m \u001b[39m\"\"\"\u001b[39;00m\n\u001b[1;32m    408\u001b[0m \u001b[39mif\u001b[39;00m \u001b[39mself\u001b[39m\u001b[39m.\u001b[39m_closed:\n\u001b[0;32m--> 409\u001b[0m     \u001b[39mraise\u001b[39;00m err\u001b[39m.\u001b[39mError(\u001b[39m\"\u001b[39m\u001b[39mAlready closed\u001b[39m\u001b[39m\"\u001b[39m)\n\u001b[1;32m    410\u001b[0m \u001b[39mself\u001b[39m\u001b[39m.\u001b[39m_closed \u001b[39m=\u001b[39m \u001b[39mTrue\u001b[39;00m\n\u001b[1;32m    411\u001b[0m \u001b[39mif\u001b[39;00m \u001b[39mself\u001b[39m\u001b[39m.\u001b[39m_sock \u001b[39mis\u001b[39;00m \u001b[39mNone\u001b[39;00m:\n",
      "\u001b[0;31mError\u001b[0m: Already closed"
     ]
    }
   ],
   "source": [
    "\n",
    "\n",
    "\n",
    "sql = \"INSERT INTO test (name, email) VALUES (%s, %s)\"\n",
    "\n",
    "with conn:\n",
    "    with conn.cursor() as curs:\n",
    "        curs.execute(sql, ('Jaehee', 'jaehee@example.com'))\n",
    "        curs.execute(sql, ('Jeongeun', 'jeongeun@example.com'))\n",
    "        conn.commit()     \n",
    "\n",
    "\n",
    "sql = \"SELECT * FROM user ORDER BY name\"\n",
    "\n",
    "with conn:\n",
    "    with conn.cursor() as cur:\n",
    "        cur.execute(sql)\n",
    "        result = cur.fetchall()\n",
    "        for data in result:\n",
    "            print(data)\n",
    "            \n",
    "\n",
    "sql = \"UPDATE user SET email = %s WHERE email = %s\"\n",
    "\n",
    "with conn:\n",
    "    with conn.cursor() as cur:\n",
    "        cur.execute(sql, ('jaehee@test.com', 'jaehee@example.com'))\n",
    "        conn.commit()\n",
    "        \n",
    "\n",
    "sql = \"DELETE FROM user WHERE name = %s\"\n",
    "\n",
    "with conn:\n",
    "    with conn.cursor() as cur:\n",
    "        cur.execute(sql, ('Jaehee'))\n",
    "        conn.commit()\n",
    "        print(cur.rowcount, \"rows deleted\")"
   ]
  }
 ],
 "metadata": {
  "kernelspec": {
   "display_name": "yeardream",
   "language": "python",
   "name": "python3"
  },
  "language_info": {
   "codemirror_mode": {
    "name": "ipython",
    "version": 3
   },
   "file_extension": ".py",
   "mimetype": "text/x-python",
   "name": "python",
   "nbconvert_exporter": "python",
   "pygments_lexer": "ipython3",
   "version": "3.10.9"
  },
  "orig_nbformat": 4
 },
 "nbformat": 4,
 "nbformat_minor": 2
}
