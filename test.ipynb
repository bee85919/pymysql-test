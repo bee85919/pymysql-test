{
 "cells": [
  {
   "cell_type": "code",
   "execution_count": 1,
   "metadata": {},
   "outputs": [],
   "source": [
    "import os\n",
    "from dotenv import load_dotenv\n",
    "import pymysql"
   ]
  },
  {
   "cell_type": "code",
   "execution_count": 7,
   "metadata": {},
   "outputs": [
    {
     "data": {
      "text/plain": [
       "True"
      ]
     },
     "execution_count": 7,
     "metadata": {},
     "output_type": "execute_result"
    }
   ],
   "source": [
    "load_dotenv() # 환경변수를 불러온다"
   ]
  },
  {
   "cell_type": "code",
   "execution_count": 30,
   "metadata": {},
   "outputs": [],
   "source": [
    "# 환경변수를 불러온다\n",
    "DB_HOST = os.environ.get(\"DB_HOST\")\n",
    "DB_PORT = os.environ.get(\"DB_PORT\", 3306)  # .env 파일에서 없으면 3306으로 설정\n",
    "DB_NAME = os.environ.get(\"DB_NAME\")\n",
    "DB_USER = os.environ.get(\"DB_USER\")\n",
    "DB_PASSWORD = os.environ.get(\"DB_PASSWORD\")\n",
    "\n",
    "\n",
    "# db 연결을 위한 변수\n",
    "db_config = {\n",
    "    \"host\": DB_HOST,\n",
    "    \"port\": int(DB_PORT),\n",
    "    # \"db\": DB_NAME,\n",
    "    \"user\": DB_USER,\n",
    "    \"password\": DB_PASSWORD,\n",
    "    \"charset\": \"utf8\"\n",
    "}\n",
    "# print(\"DB Config:\", db_config)\n",
    "\n",
    "\n",
    "# pymysql을 이용해 DB 연결\n",
    "conn = pymysql.connect(**db_config)"
   ]
  },
  {
   "cell_type": "code",
   "execution_count": 33,
   "metadata": {},
   "outputs": [
    {
     "name": "stdout",
     "output_type": "stream",
     "text": [
      "('Basic_info',)\n",
      "('TESTDB',)\n",
      "('information_schema',)\n",
      "('mysql',)\n",
      "('performance_schema',)\n",
      "('sys',)\n",
      "('testdb',)\n"
     ]
    }
   ],
   "source": [
    "conn = pymysql.connect(**db_config)\n",
    "\n",
    "\n",
    "# TESTDB 생성\n",
    "with conn:\n",
    "    with conn.cursor() as curs:\n",
    "        curs.execute('DROP DATABASE IF EXISTS TESTDB') # delete\n",
    "        curs.execute('CREATE DATABASE TESTDB') # create\n",
    "        curs.execute('SHOW DATABASES') # read\n",
    "        for c in curs:\n",
    "            print(c)\n",
    "        conn.commit()"
   ]
  },
  {
   "cell_type": "code",
   "execution_count": 34,
   "metadata": {},
   "outputs": [
    {
     "name": "stdout",
     "output_type": "stream",
     "text": [
      "('Basic_info',)\n",
      "('information_schema',)\n",
      "('mysql',)\n",
      "('performance_schema',)\n",
      "('sys',)\n",
      "('testdb',)\n"
     ]
    }
   ],
   "source": [
    "conn = pymysql.connect(**db_config)\n",
    "\n",
    "\n",
    "with conn:\n",
    "    with conn.cursor() as curs:\n",
    "        curs.execute('DROP DATABASE TESTDB') # delete        \n",
    "        curs.execute('SHOW DATABASES') # read\n",
    "        for c in curs:\n",
    "            print(c)\n",
    "        conn.commit()"
   ]
  },
  {
   "cell_type": "code",
   "execution_count": null,
   "metadata": {},
   "outputs": [],
   "source": []
  }
 ],
 "metadata": {
  "kernelspec": {
   "display_name": "yeardream",
   "language": "python",
   "name": "python3"
  },
  "language_info": {
   "codemirror_mode": {
    "name": "ipython",
    "version": 3
   },
   "file_extension": ".py",
   "mimetype": "text/x-python",
   "name": "python",
   "nbconvert_exporter": "python",
   "pygments_lexer": "ipython3",
   "version": "3.10.9"
  },
  "orig_nbformat": 4
 },
 "nbformat": 4,
 "nbformat_minor": 2
}
